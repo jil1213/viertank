{
  "cells": [
    {
      "cell_type": "code",
      "execution_count": null,
      "metadata": {
        "scrolled": false,
        "id": "XNGzyrN_4sKa"
      },
      "outputs": [],
      "source": [
        "#Wir importieren die benötigten Bibliotheken\n",
        "\n",
        "#algebrische Datentypen a'la matlab.\n",
        "import numpy as np\n",
        "\n",
        "#angepasste Plot-Funkionen\n",
        "from libtank import plot_results\n",
        "\n",
        "#allgemeine Plot-Funkionen a'la Matlab\n",
        "import matplotlib.pyplot as pp\n",
        "\n",
        "#Funktion für die Simulation der Modelle\n",
        "from scipy.integrate import solve_ivp\n",
        "\n",
        "#allgemeinen Funktionen für MIMO-Systeme\n",
        "import libmimo as mimo\n",
        "\n",
        "#zum einacheren Handling von Reimporten geänderter Bibliotheken\n",
        "import importlib as imp\n",
        "\n",
        "#Computeralgebra (Hier nur für die Ausgabe)\n",
        "import sympy\n",
        "\n"
      ]
    },
    {
      "cell_type": "code",
      "execution_count": null,
      "metadata": {
        "id": "ZqNZcwfz4sKd"
      },
      "outputs": [],
      "source": [
        "#Parameter des Viertank-Systems importieren\n",
        "import settings as st\n",
        "\n",
        "#Interessierende Ruhelagen anhand der Ausgänge y1=x3 und y2=x3 definieren\n",
        "y1 = np.array([0.15,0.15])\n",
        "y2 = np.array([0.10,0.20])\n",
        "y3 = np.array([0.22,0.05])\n",
        "y4 = np.array([0.17,0.13])\n",
        "y5 = np.array([0.13,0.17])\n",
        "\n",
        "y_equi=[y1,y2,y3,y4,y5]\n",
        "\n",
        "#zu betrachtende Übergänge (RL2 nach RL3 sowie RL4 nach RL5) laut Aufgabenstellung\n",
        "transitions = [(2,3),\n",
        "               (4,5)]\n",
        "\n"
      ]
    },
    {
      "cell_type": "markdown",
      "metadata": {
        "id": "s0ORqDSN4sKd"
      },
      "source": [
        "# 1 Modelle des Tanksystems"
      ]
    },
    {
      "cell_type": "markdown",
      "metadata": {
        "id": "YAZgveXy4sKf"
      },
      "source": [
        "## a) Nichlineares Modell\n",
        "\n",
        "Implementieren Sie das nichtlineare Modell, wie in der Aufgabenstellung beschrieben."
      ]
    },
    {
      "cell_type": "markdown",
      "metadata": {
        "id": "QkSwAq8v4sKf"
      },
      "source": [
        "### Dokumentation: Nichtlineares Modell des Viertanksystems\n",
        "\n",
        "Das Viertanksystem beschreibt die Dynamik der Füllstände $x_1, x_2, x_3, x_4$ in vier miteinander verbundenen Tanks. Die zeitliche Änderung der Füllstände basiert auf einer Volumenbilanz, die für jeden Tank formuliert wird. Die allgemeine Form lautet:\n",
        "\n",
        "$$\n",
        "\\dot{x}_i(t) = \\frac{1}{A_T} \\left( Q_{\\text{in}, i}(t) - Q_{\\text{out}, i}(t) \\right),\n",
        "$$\n",
        "\n",
        "wobei $A_T$ die Querschnittsfläche der Tanks darstellt, $Q_{\\text{in}, i}(t)$ die Zuflüsse in Tank $i$ und $Q_{\\text{out}, i}(t)$ die Abflüsse aus Tank $i$ beschreibt. (ist das korrekt so?)\n",
        "\n",
        "Die Zuflüsse in das System werden durch die Pumpen erzeugt, deren Volumenströme proportional zur Spannung $u_i(t)$ sind. Das Pumpenmodell lautet:\n",
        "\n",
        "$$\n",
        "Q_{\\text{zu}, i}(t) =\n",
        "\\begin{cases}\n",
        "K_U \\cdot (u_j(t) - u_{0j}), & \\text{für } u_j(t) <= u_{0j}, \\\\\n",
        "0, & \\text{sonst}.\n",
        "\\end{cases}\n",
        "$$\n",
        "\n",
        "Die Abflüsse zwischen den Tanks sowie ins Reservoir folgen dem Torricelli-Gesetz, das durch folgende Gleichung beschrieben wird:\n",
        "\n",
        "$$\n",
        "Q_{ij}(t) = a_{ij} \\cdot \\sqrt{2 \\cdot g \\cdot (x_i(t) + h_v)},\n",
        "$$\n",
        "\n",
        "wobei $a_{ij}$ der wirksame Abflussquerschnitt zwischen Tank $i$ und $j$ ist, $g$ die Erdbeschleunigung und $h_v$ die Höhe des Ventils unterhalb des Tankbodens. Diese gleichung gilt nur solange $x_i(t) >= -h_v$, also solange der Füllstand unterhalb Füllhöhe ist. Sobald dies nicht mehr gilt ist der Abfluss $Q_{ij}(t) = 0 $\n",
        "\n",
        "Ausgehend von diesen physikalischen Grundlagen ergeben sich die Differentialgleichungen des Viertanksystems. Diese können aius den gegebenen Gleichungen 4a-4d hergeleitet werden: (hier muss noch beachtet werden wenn x > 0 ist!!!)\n",
        "\n",
        "1. Für Tank 1:\n",
        "$$\n",
        "\\dot{x}_1(t) = \\frac{1}{A_T} \\left( Q_{01}(t) - Q_{12}(t) - Q_{13}(t) \\right),\n",
        "$$\n",
        "1. Für Tank 2:\n",
        "$$\n",
        "\\dot{x}_2(t) = \\frac{1}{A_T} \\left( Q_{02}(t) + Q_{12}(t) - Q_{23}(t) - Q_{24}(t) \\right),\n",
        "$$\n",
        "1. Für Tank 3:\n",
        "$$\n",
        "\\dot{x}_3(t) = \\frac{1}{A_T} \\left( Q_{13}(t) + Q_{23}(t) - Q_{34}(t) - Q_{30}(t) \\right),\n",
        "$$\n",
        "1. Für Tank 4:\n",
        "$$\n",
        "\\dot{x}_4(t) = \\frac{1}{A_T} \\left( Q_{24}(t) + Q_{34}(t) - Q_{40}(t) \\right).\n",
        "$$\n",
        "\n",
        "Die Implementierung des Modells erfolgt in der Funktion `model`, welche die Zuflüsse mit der Methode `get_flow_from_input` und die Abflüsse mit der Methode `get_outflow_from_level` berechnet. Die berechneten Zuflüsse und Abflüsse werden in die oben genannten Differentialgleichungen eingesetzt, um die Zustandsänderungen $\\dot{x}(t)$ zu berechnen. Das Modell bildet die Grundlage für die Simulation und Analyse der Dynamik des Viertanksystems.\n",
        "Um Den Ausgang (Die Funktion `output`) korrekt aufzustellen, werden die Tanks 3 und 4 betrachtet. Je nachdem ob die angegebene Zeit ein bestimmter Zeitpunkt (float) oder eine Zeitreihe (array) ist, werden die Tanks betrachtet..."
      ]
    },
    {
      "cell_type": "code",
      "execution_count": null,
      "metadata": {
        "scrolled": false,
        "colab": {
          "base_uri": "https://localhost:8080/"
        },
        "id": "RN6Gl3ud4sKg",
        "outputId": "0eada01c-ce1b-45eb-c8a5-f296b0286381"
      },
      "outputs": [
        {
          "output_type": "stream",
          "name": "stdout",
          "text": [
            "Maximaler absoluter Fehler in Modellgleichung (euklidische Norm): 1.5978378594934195\n",
            "Maximaler relativer Fehler in Modellgleichung (euklidische Norm): 34.419632451924166\n",
            "Maximaler absoluter Fehler in Ausgangsgleichung (euklidische Norm): 0.0\n",
            "Maximaler relativer Fehler in Ausgangsgleichung (euklidische Norm): 0.0\n"
          ]
        }
      ],
      "source": [
        "#Reimport der Viertank-Bibliothek\n",
        "import libtank\n",
        "imp.reload(libtank)\n",
        "from libtank import VierTank;\n",
        "\n",
        "#Modell prüfen\n",
        "tank=VierTank(st)\n",
        "\n",
        "tank.verify_model(\"testdata.pckl\")"
      ]
    },
    {
      "cell_type": "markdown",
      "metadata": {
        "id": "nIHzHuFy4sKh"
      },
      "source": [
        "Wenn die Fehler gering sind, verhält sich das aufgestellte Modell gut zu den Testdaten."
      ]
    },
    {
      "cell_type": "markdown",
      "metadata": {
        "id": "I2HanuEs4sKi"
      },
      "source": [
        "## b) Bestimmung der Ruhelagen\n",
        "\n",
        "Ergänzen Sie hier hier Ihre Überlegungen zur Bestimmung der Ruhelagen und implementieren Sie das Ergebnis in der Methode `equilibrium` der Klasse `VierTank`.\n",
        "\n",
        "Die nächste Zelle dient zunächst zum Test Ihrer Implementierung: Wenn die Ruhelagen in die Modellgleichungen eingesetzt werden, sollte  "
      ]
    },
    {
      "cell_type": "markdown",
      "metadata": {
        "id": "A6CmTTX24sKj"
      },
      "source": [
        "Die Ruhelagen können bestimmt werden, indem die zeitlichen Größen der Zustandsgrößen gleich Null sind. Außerdem sollte überprüft werden, ob die gefunden Ruhelagen auch innerhalb der systembedingten Grenzen liegen und physikalisch möglich sind.\n",
        "\n",
        "Die dynamischen Gleichungen des Systems lauten:\n",
        "\n",
        "$ A_1 \\dot{x}_1 = Q_{01} - Q_{12} - Q_{13}, \\quad A_2 \\dot{x}_2 = Q_{02} + Q_{12} - Q_{23} - Q_{24}, $ $ A_3 \\dot{x}_3 = Q_{13} + Q_{23} - Q_{34} - Q_{30}, \\quad A_4 \\dot{x}4 = Q{24} + Q_{34} - Q_{40}. $\n",
        "\n",
        "Die Ausgänge sind direkt durch $y_1 = x_3$ und $y_2 = x_4$ gegeben. Daher werden die Werte von $x_3$ und $x_4$ zunächst fixiert. Aus den Abflussvolumenströmen ergeben sich:\n",
        "\n",
        "$ Q_{34} = a_{34} \\sqrt{2 g (x_3 + h_V)}, \\quad Q_{40} = a_{40} \\sqrt{2 g (x_4 + h_V)}. $\n",
        "\n",
        "Darauf basierend werden mögliche Werte für $x_2$ iterativ berechnet:\n",
        "\n",
        "$ Q_{23} = a_{23} \\sqrt{2 g (x_2 + h_V)}, \\quad Q_{24} = a_{24} \\sqrt{2 g (x_2 + h_V)}. $\n",
        "\n",
        "Aus $x_2$ folgt $x_1$:\n",
        "\n",
        "$ Q_{12} = a_{12} \\sqrt{2 g (x_1 + h_V)}, \\quad Q_{13} = a_{13} \\sqrt{2 g (x_1 + h_V)}. $\n",
        "\n",
        "Die Eingangsspannungen ergeben sich über die Zuflussvolumenströme:\n",
        "\n",
        "$ Q_{01} = Q_{12} + Q_{13}, \\quad Q_{02} = Q_{23} + Q_{24}, $\n",
        "\n",
        "und die Pumpenkennlinien:\n",
        "\n",
        "$ u_1 = u_{A0,1} + \\frac{Q_{01}}{K_{u1}}, \\quad u_2 = u_{A0,2} + \\frac{Q_{02}}{K_{u2}}. $\n",
        "\n",
        "Dabei gelten die Beschränkungen $0 \\leq x_i \\leq h_T$, $u_1, u_2 \\leq u_{A\\text{max}}$, und alle Volumenströme müssen positiv sein. Durch numerische Iteration werden gültige Ruhelagen berechnet und in der $y_1$-$y_2$-Ebene dargestellt. Dies wird im Code entsprechend implementiert, indem die Funktion ´equilibrium´ vervollständigt wird."
      ]
    },
    {
      "cell_type": "code",
      "execution_count": null,
      "metadata": {
        "scrolled": false,
        "colab": {
          "base_uri": "https://localhost:8080/"
        },
        "id": "tUJxinhb4sKk",
        "outputId": "87b07686-91a8-4f22-fdd5-31a30b0a0c81"
      },
      "outputs": [
        {
          "output_type": "stream",
          "name": "stdout",
          "text": [
            "Ableitungstest Ruhelage 1: [-2.15695169e-17 -1.07847584e-17  0.00000000e+00  0.00000000e+00]\n",
            "Ableitungstest Ruhelage 2: [ 3.23542753e-17 -2.15695169e-17  0.00000000e+00 -4.31390338e-17]\n",
            "Ableitungstest Ruhelage 3: [ 2.15695169e-17 -5.39237922e-18  0.00000000e+00  0.00000000e+00]\n",
            "Ableitungstest Ruhelage 4: [ 3.23542753e-17 -2.15695169e-17  1.07847584e-17  0.00000000e+00]\n",
            "Ableitungstest Ruhelage 5: [-1.07847584e-17  3.23542753e-17  0.00000000e+00  0.00000000e+00]\n"
          ]
        }
      ],
      "source": [
        "#Reimport der Viertank-Bibliothek\n",
        "import libtank\n",
        "imp.reload(libtank)\n",
        "from libtank import VierTank;\n",
        "\n",
        "tank=VierTank(st)\n",
        "\n",
        "equis=[]\n",
        "\n",
        "#Berechnung der zugehörigen Ruhelagenzustände und Eingänge\n",
        "for i_, y_ in enumerate(y_equi):\n",
        "    #Ruhelage berechnen\n",
        "    _equi=tank.equilibrium(y_)\n",
        "    equis.append(_equi)\n",
        "\n",
        "    # Prüfen: hier sollte möglichst 0 herauskommen\n",
        "    dx_equi = tank.model(0, _equi.x, lambda t,x:_equi.u)\n",
        "    print(\"Ableitungstest Ruhelage \" + str(i_+1) + \": \" + str(dx_equi))"
      ]
    },
    {
      "cell_type": "markdown",
      "metadata": {
        "id": "bsezRo6-4sKl"
      },
      "source": [
        "Das Ergebniss des Ableitungstest zeigt, dass die Zahlen nahe 0 sind, somit ist dies zulässig (???)"
      ]
    },
    {
      "cell_type": "markdown",
      "metadata": {
        "id": "-S7cOu0t4sKm"
      },
      "source": [
        "Auf der Basis wird nun eine Grafik aller zulässigen Ruhelagen erstellt. Hier ist lediglich"
      ]
    },
    {
      "cell_type": "code",
      "execution_count": null,
      "metadata": {
        "scrolled": false,
        "colab": {
          "base_uri": "https://localhost:8080/",
          "height": 646
        },
        "id": "C76F1sJA4sKm",
        "outputId": "533f650f-dec9-42ed-e3a6-cd2cc2f3461a"
      },
      "outputs": [
        {
          "output_type": "error",
          "ename": "NameError",
          "evalue": "name 'pc' is not defined",
          "traceback": [
            "\u001b[0;31m---------------------------------------------------------------------------\u001b[0m",
            "\u001b[0;31mNameError\u001b[0m                                 Traceback (most recent call last)",
            "\u001b[0;32m<ipython-input-84-c70c367b1edb>\u001b[0m in \u001b[0;36m<cell line: 35>\u001b[0;34m()\u001b[0m\n\u001b[1;32m     33\u001b[0m \u001b[0;34m\u001b[0m\u001b[0m\n\u001b[1;32m     34\u001b[0m \u001b[0mlabels\u001b[0m\u001b[0;34m=\u001b[0m\u001b[0;34m[\u001b[0m\u001b[0;34m\"Admissible\"\u001b[0m\u001b[0;34m,\u001b[0m\u001b[0;34m\"Negative or small Volume Flow\"\u001b[0m\u001b[0;34m,\u001b[0m\u001b[0;34m\"Maximum Fluid Level Exceeded\"\u001b[0m\u001b[0;34m,\u001b[0m\u001b[0;34m\"Pump Voltage exceeded\"\u001b[0m\u001b[0;34m,\u001b[0m\u001b[0;34m\"Multiple issues\"\u001b[0m\u001b[0;34m]\u001b[0m\u001b[0;34m\u001b[0m\u001b[0;34m\u001b[0m\u001b[0m\n\u001b[0;32m---> 35\u001b[0;31m \u001b[0mproxy\u001b[0m \u001b[0;34m=\u001b[0m \u001b[0;34m[\u001b[0m\u001b[0mpp\u001b[0m\u001b[0;34m.\u001b[0m\u001b[0mRectangle\u001b[0m\u001b[0;34m(\u001b[0m\u001b[0;34m(\u001b[0m\u001b[0;36m0\u001b[0m\u001b[0;34m,\u001b[0m\u001b[0;36m0\u001b[0m\u001b[0;34m)\u001b[0m\u001b[0;34m,\u001b[0m\u001b[0;36m1\u001b[0m\u001b[0;34m,\u001b[0m\u001b[0;36m1\u001b[0m\u001b[0;34m,\u001b[0m\u001b[0mfc\u001b[0m \u001b[0;34m=\u001b[0m \u001b[0mpc\u001b[0m\u001b[0;34m.\u001b[0m\u001b[0mget_facecolor\u001b[0m\u001b[0;34m(\u001b[0m\u001b[0;34m)\u001b[0m\u001b[0;34m[\u001b[0m\u001b[0;36m0\u001b[0m\u001b[0;34m]\u001b[0m\u001b[0;34m)\u001b[0m \u001b[0;34m]\u001b[0m\u001b[0;34m\u001b[0m\u001b[0;34m\u001b[0m\u001b[0m\n\u001b[0m\u001b[1;32m     36\u001b[0m         \u001b[0;31m#for pc in cs.collections]\u001b[0m\u001b[0;34m\u001b[0m\u001b[0;34m\u001b[0m\u001b[0m\n\u001b[1;32m     37\u001b[0m \u001b[0mpp\u001b[0m\u001b[0;34m.\u001b[0m\u001b[0mlegend\u001b[0m\u001b[0;34m(\u001b[0m\u001b[0mproxy\u001b[0m\u001b[0;34m,\u001b[0m \u001b[0mlabels\u001b[0m\u001b[0;34m,\u001b[0m\u001b[0mbbox_to_anchor\u001b[0m\u001b[0;34m=\u001b[0m\u001b[0;34m(\u001b[0m\u001b[0;36m1.7\u001b[0m\u001b[0;34m,\u001b[0m \u001b[0;36m1.02\u001b[0m\u001b[0;34m)\u001b[0m\u001b[0;34m)\u001b[0m\u001b[0;34m\u001b[0m\u001b[0;34m\u001b[0m\u001b[0m\n",
            "\u001b[0;31mNameError\u001b[0m: name 'pc' is not defined"
          ]
        },
        {
          "output_type": "display_data",
          "data": {
            "text/plain": [
              "<Figure size 640x480 with 1 Axes>"
            ],
            "image/png": "[encoded data removed]"
          },
          "metadata": {}
        }
      ],
      "source": [
        "#Reimport der Viertank-Bibliothek\n",
        "import libtank\n",
        "imp.reload(libtank)\n",
        "from libtank import VierTank;\n",
        "\n",
        "#Bestimmen aller zulässigen Ruhelagen\n",
        "tank=VierTank(st)\n",
        "\n",
        "#Auflösung\n",
        "N=401\n",
        "M=np.zeros((N,N))\n",
        "\n",
        "#Stützstellen Ausgangsfüllhöhen\n",
        "_y1_array=np.linspace(0,0.3,N)\n",
        "_y2_array=np.linspace(0,0.3,N)\n",
        "\n",
        "#Ruhelagen zu allen Stütstellen berechnen\n",
        "for _i, _y1 in enumerate(_y1_array):\n",
        "    for _j, _y2 in enumerate(_y2_array):\n",
        "        _equi = tank.equilibrium([_y1,_y2])\n",
        "        color_code = [0,1,2,4,3,4,4,4]\n",
        "        M[_j,_i]=color_code[_equi.status]\n",
        "\n",
        "\n",
        "#Plotten\n",
        "fig = pp.figure();\n",
        "cs=pp.contourf(_y1_array,_y2_array,M,[-0.5,0.5,1.5,2.5,3.5,4.5],colors=['lightgreen','red','yellow','orange','brown'])\n",
        "pp.contour(_y1_array,_y2_array,M,[-0.5,0.5,1.5,2.5,3.5,4.5],colors='black')\n",
        "ax=pp.gca()\n",
        "ax.set_xlim(0,0.3)\n",
        "ax.set_ylim(0,0.30)\n",
        "\n",
        "\n",
        "labels=[\"Admissible\",\"Negative or small Volume Flow\",\"Maximum Fluid Level Exceeded\",\"Pump Voltage exceeded\",\"Multiple issues\"]\n",
        "proxy = [pp.Rectangle((0,0),1,1,fc = pc.get_facecolor()[0])\n",
        "        for pc in cs.collections]\n",
        "pp.legend(proxy, labels,bbox_to_anchor=(1.7, 1.02))\n",
        "for _i in range(len(labels)):\n",
        "    cs.collections[_i].set_label(labels[_i])\n",
        "#for _i,_y in enumerate(y_equi):\n",
        "pp.plot(np.array(y_equi)[:,0],np.array(y_equi)[:,1],\"kx\")\n",
        "pp.grid()\n",
        "pp.show()\n"
      ]
    },
    {
      "cell_type": "markdown",
      "metadata": {
        "id": "kmj5soMY4sKn"
      },
      "source": [
        "## c) Simulation des nichtlinearen Modells\n",
        "\n",
        "Führen Sie an dieser Stelle die Simulationsstudie des nichtlinearen Modells durch und interpretieren Sie die Ergebnisse. An dieser Stelle ist keine Programmierarbeit zu leisten."
      ]
    },
    {
      "cell_type": "code",
      "execution_count": null,
      "metadata": {
        "scrolled": true,
        "id": "YBlqqge94sKn"
      },
      "outputs": [],
      "source": [
        "#Modell neu laden\n",
        "import libtank\n",
        "imp.reload(libtank)\n",
        "from libtank import VierTank;\n",
        "tank=VierTank(st)\n",
        "\n",
        "# Ein \"Regler\" der den Eingang konstant hält\n",
        "def constant_controller(t,x,u):\n",
        "    if x.ndim==1:\n",
        "        return u\n",
        "    else:\n",
        "        return np.diag(u)@np.ones((2,x.shape[1]))\n",
        "\n",
        "#Simulationszeit\n",
        "Tsim=400\n",
        "\n",
        "for _i, _transition in enumerate(transitions):\n",
        "\n",
        "    #Anfangszustand\n",
        "    _x0 = equis[_transition[0]-1].x\n",
        "\n",
        "    #Endzustand\n",
        "    _x1 = equis[_transition[1]-1].x\n",
        "\n",
        "    #konstantes Stellsignal ensprechend Endruhelage\n",
        "    _u0 = equis[_transition[1]-1].u\n",
        "\n",
        "\n",
        "    #Auswertungszeitpunkte\n",
        "    t_eval=np.linspace(0,Tsim,1000)\n",
        "\n",
        "    #Wrapper für rechte Seite der Differentialgleichung\n",
        "    _ctrl = lambda t,x: constant_controller(t,x,_u0)\n",
        "    _rhs = lambda t,x:tank.model(t,x,_ctrl)\n",
        "\n",
        "    #Modell simulieren\n",
        "    res = solve_ivp(_rhs,#zu simulierendes Modell\n",
        "                    [0,Tsim],#Zeitspanne für Simulation\n",
        "                    _x0,#Anfangszustand\n",
        "                    t_eval=t_eval,#Auswertungszeitpunkte\n",
        "                    atol=1e-6,rtol=1e-3 #Toleranzen\n",
        "                    )\n",
        "\n",
        "    #Ergebnisse Plotten\n",
        "    x=res.y\n",
        "    u=_ctrl(t_eval,x)\n",
        "    _xx=np.tile(_x1,(t_eval.shape[0],1)).T\n",
        "    plot_results(t_eval,(_xx,x),(u,))\n",
        "    pp.gcf().suptitle('Übergang Ruhelage '+ str(_transition[0]) + ' nach Ruhelage' + str(_transition[1]) + '.')\n",
        "    pp.show()"
      ]
    },
    {
      "cell_type": "markdown",
      "metadata": {
        "id": "cEO5vXpm4sKo"
      },
      "source": [
        "Die beiden Grafiken zeigen den Übergang von einer Ruhelage in die nächste.\n",
        "#### Übergang Ruhelage 2 zu 3\n",
        "??"
      ]
    },
    {
      "cell_type": "markdown",
      "metadata": {
        "id": "1_dKzRy34sKo"
      },
      "source": [
        "## d) Lineares Modell des Tanksystems\n",
        "\n",
        "Fügen Sie hier Ihre Überlegungen zur Linearisierung ein. Die Ergebnisse sind in der Methode `linearize` der Klasse `VierTank`zu implementieren. Aus der nächsten Zelle werden die Ergebnisse aufgerufen und numerisch überprüft. Es werden ausserdem die Eigenwerte entsprechenden Systemmatrizen berechnet. Interpretieren Sie anhand dieser Eigenwerte kurz die Simulationsergebnisse der vorangegangenen Teilaufgabe."
      ]
    },
    {
      "cell_type": "markdown",
      "metadata": {
        "id": "BtpfEIP_4sKp"
      },
      "source": [
        "Für die Linearisierung um eine beliebeige Ruhelage, wird die Ruhelage an die Funktion übergeben. Für diese werden dann die numerische Berechnungen der Ableitungen durchgeführt. Es werden also die Jacobi-Matrizen (welche die Systemmatrizen darstellen) berechnet. Um die Ableitungen zu bilden wird die Methode der finiten Differenzen verwendet. (Passt das so oder sollten wir was anderes machen?)\n",
        "((Um die partielle Ableitung zu approximieren, wird eine kleine Störungder Zustandsvariable $x$ und Eingangsvariable $u$ verwendet)) Das ist falsch meiner Meinung nach!!"
      ]
    },
    {
      "cell_type": "code",
      "execution_count": null,
      "metadata": {
        "scrolled": false,
        "id": "oYgE-C094sKp"
      },
      "outputs": [],
      "source": [
        "#Modell neu laden\n",
        "import libtank\n",
        "imp.reload(libtank)\n",
        "\n",
        "from libtank import VierTank;\n",
        "\n",
        "tank=VierTank(st)\n",
        "\n",
        "for _i, y_ in enumerate(y_equi):\n",
        "    print(\"Ruhelage \"+ str(_i+1) +\":\")\n",
        "    print(\"===========\")\n",
        "    #Prüfen des Regimes\n",
        "    _equi=tank.equilibrium(y_)\n",
        "\n",
        "    #Berechnung der Linearisierung\n",
        "    tank_lin = tank.linearize(_equi)\n",
        "\n",
        "    #Prüfen der Linearisierung\n",
        "    A,B,C=tank.verify_linearization(tank_lin)\n",
        "\n",
        "    #Eigenwerte berechnen\n",
        "    print(\"Eigenwerte : \" + str(np.linalg.eigvals(tank_lin.A)))\n",
        "    print()\n"
      ]
    },
    {
      "cell_type": "markdown",
      "metadata": {
        "id": "d7NaK6CS4sKq"
      },
      "source": [
        "Zuletzt sollen sie Eigenwerte der Systemmatrizen numerisch berechnet werden. Dies geschieht bereits im vorgesetzten Code und wird deshalb nicht erneut durchgeführt. Fehlend: Interpretation der Simulationsergebnisse in Hinblick auf die Eigenwerte?"
      ]
    },
    {
      "cell_type": "markdown",
      "metadata": {
        "id": "EPwxBpDY4sKq"
      },
      "source": [
        "# 2 Zeitkontinuierlicher Entwurf"
      ]
    },
    {
      "cell_type": "code",
      "execution_count": null,
      "metadata": {
        "scrolled": false,
        "id": "dT1faFeq4sKr"
      },
      "outputs": [],
      "source": [
        "#In diesem Abschnitt wird durchgehend die Ruhelage 1 für den Entwurf genutzt\n",
        "tank=VierTank(st)\n",
        "tank_lin=tank\n",
        "tank_lin = tank.linearize(equis[0])\n",
        "\n",
        "#Übergangszeit ist jeweils 50s\n",
        "T=50.0"
      ]
    },
    {
      "cell_type": "markdown",
      "metadata": {
        "id": "8oh5fzVE4sKs"
      },
      "source": [
        "## a) Steuerbarkeit\n",
        "\n",
        "Ergänzen Sie hier Ihre Überlegungen zu Teilaufgab a)."
      ]
    },
    {
      "cell_type": "markdown",
      "metadata": {
        "id": "SntNGfCh4sKs"
      },
      "source": [
        "Die Steuerbarkeit des linearisierten Systems kann mithilfe des Kalmannschen Kriteriums gelöst werden. Ein System ist steuerbar, wenn die Steuerbarkeitsmatrix S vollen Rang n besitzt. Zuerst wird also S berechnet, wobei die Matrizen A und B aus der linearen Zustandsraumdarstellung des Systems in Ruhelage 1 verwendet werden. Hierfür wird mit der Methode `linearize` aus `libtank.py` die Systemmatrizen berechnet.\n",
        "\n",
        "$S = \\begin{bmatrix} B & AB & A^2B & \\cdots & A^{n-1}B \\end{bmatrix}$\n",
        "\n",
        "Die Steuerbarkeitsmatrix kann mit der Funktion  `controllability_matrix` in der Datei `libmimo.py` berechnet werden.\n",
        "\n",
        "\n",
        "Weiter wird mithilfe des Rangs überprüft ob das System steuerbar ist, dabei gilt: Das Sytem ist steuerbar, wenn $\\text{Rang}(S) = n$, wobei $n$ der Anzahl der Zustandsvariablen entspricht.\n",
        "\n",
        "Kronecker-Indizes: Die Kronecker-Indizes $\\nu_i$ ergeben sich aus der Struktur der Steuerbarkeitsmatrix $S$ und beschreiben die Länge der Steuerbarkeitsketten im System in Regelungsnormalform. Diese Ketten geben an, wie die Zustandsvariablen des Systems durch die Eingabe u(t)u(t) beeinflusst werden können, sie entsprechen der Minmialen Anzahl von Zustandsvariablen , die erforderlich sind um das System vollständig zu steuern. Ihre Summe entspricht $n$."
      ]
    },
    {
      "cell_type": "code",
      "execution_count": null,
      "metadata": {
        "scrolled": false,
        "id": "VOBVRbui4sKs"
      },
      "outputs": [],
      "source": [
        "# Hier den Code zu Teilaufgabe a) ergänzen\n",
        "# Import der notwendigen Funktionen\n",
        "from libmimo import controllability_matrix\n",
        "\n",
        "# Zugriff auf die Systemmatrizen\n",
        "A, B, C, D = tank_lin.A, tank_lin.B, tank_lin.C, tank_lin.D\n",
        "\n",
        "# Steuerbarkeitsmatrix berechnen\n",
        "S = controllability_matrix(A, B)\n",
        "\n",
        "# Rang der Steuerbarkeitsmatrix überprüfen\n",
        "rank_S = np.linalg.matrix_rank(S)\n",
        "state_dim = A.shape[0]\n",
        "\n",
        "if rank_S == state_dim:\n",
        "    print(\"Das System ist steuerbar.\")\n",
        "else:\n",
        "    print(\"Das System ist nicht steuerbar.\")\n",
        "\n",
        "# Bestimmung der Kronecker-Indizes\n",
        "# Hier wird weiter analysiert, z.B. Blockstruktur oder Transformation\n"
      ]
    },
    {
      "cell_type": "markdown",
      "metadata": {
        "id": "vC0S4ud54sKt"
      },
      "source": [
        "Das system ist steuerbar. Die Kronecker Indizes ...\n",
        "Sollen diese noch explizit berechnet werden?"
      ]
    },
    {
      "cell_type": "markdown",
      "metadata": {
        "id": "A59kaJEt4sKt"
      },
      "source": [
        "## b) Trajektorienplanung\n",
        "\n",
        "Ergänzen Sie hier Ihre Überlegungen zu Teilaufgabe b).\n",
        "\n",
        "Führen Sie die in der Angabe angegebenen Anpassungen der Algorithmen in der Klasse `ContinuousFlatnessBasedTrajectory` in der Datei `libtank.py` durch.\n",
        "\n",
        "Interpretieren Sie Anhand der Transformationsmatrix $Q$ auf Regelungsnormalform die Bedeutung des flachen Ausgangs (mündlich)."
      ]
    },
    {
      "cell_type": "code",
      "execution_count": null,
      "metadata": {
        "id": "GOTD_M--4sKt"
      },
      "outputs": [],
      "source": [
        "from libmimo import mimo_rnf\n",
        "\n",
        "## Hier die Kommentare entfernen und Interpretation des flachen Ausgangs anhand der Matrix Q diskutieren\n",
        "\n",
        "#mimo_rnf(tank_lin.A,tank_lin.B,tank_lin.C,(2,2))\n",
        "#_, _, _,_, Q, S = mimo_rnf(tank_lin.A,tank_lin.B,tank_lin.C,(2,2))\n",
        "#display(sympy.Matrix(Q.round(2)))"
      ]
    },
    {
      "cell_type": "markdown",
      "metadata": {
        "id": "7PTziGwL4sKu"
      },
      "source": [
        "## c) Steuerungsentwurf"
      ]
    },
    {
      "cell_type": "markdown",
      "metadata": {
        "id": "6uhCIPDH4sKu"
      },
      "source": [
        "Testen Sie hier Ihre Implementierung und interpretieren Sie die Ergebnisse."
      ]
    },
    {
      "cell_type": "code",
      "execution_count": null,
      "metadata": {
        "scrolled": true,
        "id": "xWcj84DX4sKu"
      },
      "outputs": [],
      "source": [
        "#importiere benötigte Funktion\n",
        "imp.reload(libtank)\n",
        "\n",
        "#Übergangszeit für Trajektorie\n",
        "Tsim=2*T\n",
        "\n",
        "#Übergangszeit bitte ggf. anpassen\n",
        "T = [150,50]\n",
        "\n",
        "#Generiere Solltrajektorien für das linearisierte System\n",
        "for _i, _transition in enumerate(transitions):\n",
        "\n",
        "    _T = T[_i]\n",
        "\n",
        "    #Simulationszeit\n",
        "\n",
        "    Tsim = 2*_T\n",
        "\n",
        "    #Anfangs- und Endruhelage abrufen\n",
        "    _ya = y_equi[_transition[0]-1]\n",
        "    _yb = y_equi[_transition[1]-1]\n",
        "\n",
        "    #Trajekorie generieren\n",
        "    _trajectory=tank_lin.rest_to_rest_trajectory(_ya,_yb,_T,(2,2))\n",
        "\n",
        "    #Ergebnisse Plotten\n",
        "    tv=np.linspace(0,Tsim,1000)\n",
        "    _x_soll = _trajectory.state(tv)\n",
        "    _u_soll = _trajectory.input(tv)\n",
        "    plot_results(tv,(_x_soll,),(_u_soll,))\n",
        "    pp.gcf().suptitle('Übergang Ruhelage '+ str(_transition[0]) + ' nach Ruhelage' + str(_transition[1]) + '.')\n",
        "    pp.show()\n",
        "\n",
        "\n"
      ]
    },
    {
      "cell_type": "markdown",
      "metadata": {
        "id": "zLep05dZ4sKv"
      },
      "source": [
        "Zum Test der bisherigen Schritte wird die Planung mit der Simulation verglichen. Zumindest bei der Simulation mit dem linearen Modell sollten die geplanten und die simulierten Trajektorien jeweils übereinanderliegen."
      ]
    },
    {
      "cell_type": "markdown",
      "metadata": {
        "id": "00CpSoCM4sKv"
      },
      "source": [
        "## d) Simulation der Steuerung"
      ]
    },
    {
      "cell_type": "code",
      "execution_count": null,
      "metadata": {
        "scrolled": false,
        "id": "OWWRkqRD4sKv"
      },
      "outputs": [],
      "source": [
        "linear = False\n",
        "\n",
        "#Übergangszeit für die beiden Szenarien bitte ggf. anpassen\n",
        "T = [50,50]\n",
        "\n",
        "tank = VierTank(st)\n",
        "tank_lin = tank.linearize(equis[0])\n",
        "\n",
        "if linear:\n",
        "    _tank = tank_lin\n",
        "else:\n",
        "    _tank = tank\n",
        "\n",
        "for _i, _transition in enumerate(transitions):\n",
        "    #Übergangszeit auslesen\n",
        "    _T = T[_i]\n",
        "\n",
        "    #Simulationszeit\n",
        "\n",
        "    _Tsim = 2*_T\n",
        "\n",
        "    #Anfangs- und Endwerte\n",
        "    _ya = y_equi[_transition[0]-1]\n",
        "    _yb = y_equi[_transition[1]-1]\n",
        "\n",
        "    #Trajekorie generieren\n",
        "    _trajectory=tank_lin.rest_to_rest_trajectory(_ya,_yb,_T,(2,2))\n",
        "\n",
        "    #Auswertungszeitpunkte\n",
        "    t_eval=np.linspace(0,_Tsim,1000)\n",
        "\n",
        "    #Anfangszustand\n",
        "    if linear:\n",
        "        x0 = _trajectory.state(0)\n",
        "    else:\n",
        "        x0 = equis[_transition[0]-1].x\n",
        "\n",
        "\n",
        "    #Solltrajektorien auswerten\n",
        "    _x_soll = _trajectory.state(t_eval)\n",
        "    _u_soll = _trajectory.input(t_eval)\n",
        "\n",
        "\n",
        "    #Wrapper für rechte Seite der Differentialgleichung\n",
        "    _ctrl = lambda t,x:_trajectory.input(t)\n",
        "    _rhs = lambda t,x:_tank.model(t,x,_ctrl)\n",
        "\n",
        "    #Simulation\n",
        "    res = solve_ivp(_rhs,#zu simulierendes Modell\n",
        "                    [0,Tsim],#Zeitspanne für Simulation\n",
        "                    x0,#Anfangszustand\n",
        "                    t_eval=t_eval,#Auswertungszeitpunkte\n",
        "                    atol=1e-9,rtol=1e-6 #Toleranzen\n",
        "                    )\n",
        "\n",
        "    #Ergebnisse Plotten\n",
        "    _x=res.y\n",
        "    plot_results(t_eval,(_x_soll,_x),(_u_soll,))\n",
        "    pp.gcf().suptitle('Übergang Ruhelage '+ str(_transition[0]) + ' nach Ruhelage' + str(_transition[1]) + '.')\n",
        "    pp.show()\n"
      ]
    },
    {
      "cell_type": "markdown",
      "metadata": {
        "id": "muMzFbmo4sKw"
      },
      "source": [
        "## e) Reglerentwurf"
      ]
    },
    {
      "cell_type": "code",
      "execution_count": null,
      "metadata": {
        "scrolled": false,
        "id": "HWvI3fgE4sKw"
      },
      "outputs": [],
      "source": [
        "# Definition einer generischen Zustandsrückführung mit Führungsgrößenaufschaltung\n",
        "def controller_closed_loop(t,x,K,trajectory):\n",
        "    #skalare Argumente vektorisieren\n",
        "    tv=np.atleast_1d(t)\n",
        "\n",
        "    #Sollzustand berechnen\n",
        "    x_ref=trajectory.state(tv)\n",
        "\n",
        "    if np.isscalar(t):\n",
        "        #Dimension testen, eventuell auf Matrixform bringen\n",
        "        x_=np.array(x).reshape(4,1)\n",
        "    else:\n",
        "        x_=x\n",
        "\n",
        "    #Regelfehler\n",
        "    x_tilde=x_-x_ref\n",
        "\n",
        "    ######-------!!!!!!Aufgabe!!!!!!-------------########\n",
        "    #Hier bitte die vollständige Zustandsrückführung für das nichtlineare System einfügen\n",
        "    u = np.zeros((2,tv.shape[0]))\n",
        "    ######-------!!!!!!Aufgabe Ende!!!!!!-------########\n",
        "\n",
        "    if np.isscalar(t):\n",
        "        u=u[:,0]\n",
        "    return u"
      ]
    },
    {
      "cell_type": "markdown",
      "metadata": {
        "id": "Ehw3r9p04sKw"
      },
      "source": [
        "### Berechnen der Reglerverstärkungen\n",
        "\n",
        "Fügen Sie hier Ihre Überlegungen zur Reglerauslegung ein."
      ]
    },
    {
      "cell_type": "code",
      "execution_count": null,
      "metadata": {
        "scrolled": false,
        "id": "N4rC_T0i4sKw"
      },
      "outputs": [],
      "source": [
        "#Eigenwerte des offenen Kreises\n",
        "\n",
        "######-------!!!!!!Aufgabe!!!!!!-------------########\n",
        "#hier bitte Wunscheigenwerte des geschlossenen Regelkreises wählen und Reglerverstärkungen berechnen\n",
        "K_pole_placement=np.zeros((2,4))\n",
        "######-------!!!!!!Aufgabe Ende!!!!!!-------########\n",
        "\n",
        "print(K_pole_placement)\n",
        "\n",
        "print(\"Reglerverstärkung:\")\n",
        "display(sympy.Matrix(K_pole_placement.round(3)))\n",
        "\n",
        "print(\"Probe (Eigenwerte geschlossener Kreis):\")\n",
        "display(sympy.Matrix(np.linalg.eigvals(tank_lin.A-tank_lin.B@K_pole_placement).round(3)))\n",
        "\n",
        "print(\"Eigenwerte Zielregime:\")\n",
        "display(sympy.Matrix(np.linalg.eigvals(tank.linearize(equis[2]).A-tank.linearize(equis[2]).B@K_pole_placement).round(3)))"
      ]
    },
    {
      "cell_type": "markdown",
      "metadata": {
        "id": "K8pyp3cs4sKx"
      },
      "source": [
        "### Simulation des geschlossenen Regelkreises\n",
        "\n",
        "Passen Sie die Parameter selbständig an"
      ]
    },
    {
      "cell_type": "code",
      "execution_count": null,
      "metadata": {
        "scrolled": false,
        "id": "B2CB5r6H4sKy"
      },
      "outputs": [],
      "source": [
        "#Simulationsmodell linear oder nichtlinear\n",
        "linear = False\n",
        "\n",
        "#Übergangszeit für gewählte Übergänge (bitte ggf. anpassen)\n",
        "T = [50,50]\n",
        "\n",
        "tank = VierTank(st)\n",
        "tank_lin = tank.linearize(equis[0])\n",
        "\n",
        "if linear:\n",
        "    _tank = tank_lin\n",
        "else:\n",
        "    _tank = tank\n",
        "\n",
        "for _i, _transition in enumerate(transitions):\n",
        "    #Übergangszeit auslesen\n",
        "    _T = T[_i]\n",
        "\n",
        "    #Simulationszeit\n",
        "\n",
        "    Tsim = 2*_T\n",
        "\n",
        "    #Anfangs- und Endwerte\n",
        "    _ya = y_equi[_transition[0]-1]\n",
        "    _yb = y_equi[_transition[1]-1]\n",
        "\n",
        "    #Trajekorie generieren\n",
        "    _trajectory=tank_lin.rest_to_rest_trajectory(_ya,_yb,_T,(2,2))\n",
        "\n",
        "    #Auswertungszeitpunkte\n",
        "    t_eval=np.linspace(0,Tsim,1000)\n",
        "\n",
        "\n",
        "    #Anfangszustand\n",
        "    if linear:\n",
        "        _x0 = _trajectory.state(0)\n",
        "    else:\n",
        "        _x0 = equis[_transition[0]-1].x\n",
        "\n",
        "    #Wrapper für Regler und System\n",
        "    _ctrl = lambda t_,x_:controller_closed_loop(t_, x_,K_pole_placement,_trajectory)\n",
        "    _rhs = lambda t_, x_:_tank.model(t_,x_,_ctrl)\n",
        "\n",
        "\n",
        "\n",
        "    #Simulation\n",
        "    res = solve_ivp(_rhs,#zu simulierendes Modell\n",
        "                    [0,Tsim],#Zeitspanne für Simulation\n",
        "                    _x0,#Anfangszustand\n",
        "                    t_eval=t_eval,#Auswertungszeitpunkte\n",
        "                    atol=1e-9,rtol=1e-6 #Toleranzen\n",
        "                    )\n",
        "\n",
        "    #Ergebnisse Plotten\n",
        "    _x = res.y\n",
        "    _u = _ctrl(t_eval,_x)\n",
        "\n",
        "    #Ergebnisse Plotten\n",
        "    plot_results(t_eval,\n",
        "                 (_trajectory.state(t_eval),_x),\n",
        "                 (_trajectory.input(t_eval),_u))\n",
        "\n",
        "    pp.gcf().suptitle('Übergang Ruhelage '+ str(_transition[0]) + ' nach Ruhelage' + str(_transition[1]) + '.')\n",
        "    pp.show()\n"
      ]
    },
    {
      "cell_type": "markdown",
      "metadata": {
        "id": "0vCS2b4B4sKz"
      },
      "source": [
        "## f) LQR Entwurf\n",
        "\n",
        "Ergänzen Sie hier Ihre Überlegungen zum LQR-Entwurf. Die Berechnung der Reglerverstärkungen sind in der nächsten Zelle zu implementieren."
      ]
    },
    {
      "cell_type": "code",
      "execution_count": null,
      "metadata": {
        "scrolled": false,
        "id": "Sk8aHW_q4sKz"
      },
      "outputs": [],
      "source": [
        "import libtank\n",
        "imp.reload(libtank)\n",
        "\n",
        "R=np.eye(2)\n",
        "Q=np.eye(4)\n",
        "print(\"Gewichtsmatrix Q:\")\n",
        "display(sympy.Matrix(Q.round(3)))\n",
        "\n",
        "print(\"Gewichtsmatrix R:\")\n",
        "display(sympy.Matrix(R.round(3)))\n",
        "\n",
        "K_lqr=tank_lin.lqr(Q,R)\n",
        "\n",
        "print(\"Reglerverstärkung:\")\n",
        "display(sympy.Matrix(K_lqr.round(3)))"
      ]
    },
    {
      "cell_type": "code",
      "execution_count": null,
      "metadata": {
        "id": "pHYkmPsl4sK0"
      },
      "outputs": [],
      "source": [
        "linear = False\n",
        "\n",
        "#Übergangszeit bitte ggf. anpassen\n",
        "T = [100,100]\n",
        "\n",
        "tank = VierTank(st)\n",
        "tank_lin = tank.linearize(equis[0])\n",
        "\n",
        "if linear:\n",
        "    _tank = tank_lin\n",
        "else:\n",
        "    _tank = tank\n",
        "\n",
        "for _i, _transition in enumerate(transitions):\n",
        "    #Übergangszeit auslesen\n",
        "    _T = T[_i]\n",
        "\n",
        "    #Simulationszeit\n",
        "\n",
        "    Tsim = 2*_T\n",
        "\n",
        "    #Anfangs- und Endwerte\n",
        "    _ya = y_equi[_transition[0]-1]\n",
        "    _yb = y_equi[_transition[1]-1]\n",
        "\n",
        "    #Trajekorie generieren\n",
        "    _trajectory=tank_lin.rest_to_rest_trajectory(_ya,_yb,_T,(2,2))\n",
        "\n",
        "    #Auswertungszeitpunkte\n",
        "    t_eval=np.linspace(0,Tsim,1000)\n",
        "\n",
        "\n",
        "    #Anfangszustand\n",
        "    if linear:\n",
        "        _x0 = _trajectory.state(0)\n",
        "    else:\n",
        "        _x0 = equis[_transition[0]-1].x\n",
        "\n",
        "    #Wrapper für Regler und System\n",
        "    _ctrl = lambda t,x:controller_closed_loop(t,x,K_lqr,_trajectory)\n",
        "    _rhs = lambda t,x:_tank.model(t,x,_ctrl)\n",
        "\n",
        "\n",
        "\n",
        "    #Simulation\n",
        "    res = solve_ivp(_rhs,#zu simulierendes Modell\n",
        "                    [0,Tsim],#Zeitspanne für Simulation\n",
        "                    _x0,#Anfangszustand\n",
        "                    t_eval=t_eval,#Auswertungszeitpunkte\n",
        "                    atol=1e-9,rtol=1e-6 #Toleranzen\n",
        "                    )\n",
        "\n",
        "    #Ergebnisse Plotten\n",
        "    _x = res.y\n",
        "    _u = _ctrl(t_eval,_x)\n",
        "\n",
        "    #Ergebnisse Plotten\n",
        "    plot_results(t_eval,\n",
        "                 (_trajectory.state(t_eval),_x),\n",
        "                 (_trajectory.input(t_eval),_u))\n",
        "\n",
        "    pp.gcf().suptitle('Übergang Ruhelage '+ str(_transition[0]) + ' nach Ruhelage' + str(_transition[1]) + '.')\n",
        "    pp.show()\n"
      ]
    },
    {
      "cell_type": "markdown",
      "metadata": {
        "id": "U_InwdI_4sK0"
      },
      "source": [
        "# 3 Zeitdiskreter Entwurf\n",
        "Das zeitdiskrete Simulationsmodell ist im wesentlichen als Schleife aufgebaut. In jedem Abtastschritt wird zunächst der Eingang aktualisiert. Im Anschluss wird das System, mit diesem Wert für den Eingang, über eine Abtastperiode simuliert."
      ]
    },
    {
      "cell_type": "code",
      "execution_count": null,
      "metadata": {
        "scrolled": false,
        "id": "I9HruGR_4sK1"
      },
      "outputs": [],
      "source": [
        "def simulate_discrete(sys,x0,fkt_u,Ta,Tsim):\n",
        "    #nonlinear simulation\n",
        "    t_array=np.array([])\n",
        "    u_array=np.zeros((2,0))\n",
        "    x_array=np.zeros((len(x0),0))\n",
        "    k=0\n",
        "    while k*Ta<Tsim:\n",
        "        u=fkt_u(k,x0)\n",
        "        ctrl = lambda t,x:u\n",
        "        rhs=lambda t,x:sys(t,x,ctrl)\n",
        "        t_eval=[k*Ta,(k+0.01)*Ta,(k+0.99)*Ta,(k+1)*Ta]\n",
        "        res=solve_ivp(rhs,[k*Ta,(k+1)*Ta],x0,atol=1e-9,rtol=1e-6,t_eval=t_eval)\n",
        "        t_array=np.hstack((t_array,res.t))\n",
        "        x_array=np.hstack((x_array,res.y))\n",
        "        u_array=np.hstack((u_array,u.reshape((2,1))*np.ones_like(res.t)))\n",
        "        k+=1\n",
        "        x0=x_array[:,-1]\n",
        "\n",
        "    return t_array,x_array,u_array"
      ]
    },
    {
      "cell_type": "markdown",
      "metadata": {
        "id": "rh_-URIn4sK1"
      },
      "source": [
        "Für alle nachfolgenden zeitdiskreten Schritte muss zunächst das Systemmodell mit der gewählten Abtastschrittweite $T_a$ diskretisiert werden."
      ]
    },
    {
      "cell_type": "markdown",
      "metadata": {
        "id": "7k30ZGmV4sK1"
      },
      "source": [
        "## a) Quasi-kontinuierliche Simulation"
      ]
    },
    {
      "cell_type": "code",
      "execution_count": null,
      "metadata": {
        "scrolled": false,
        "id": "QSAiiICD4sK1"
      },
      "outputs": [],
      "source": [
        "#Simulation mit linearem Entwurfsmodell oder nichtlinearem Modell?\n",
        "linear = True\n",
        "\n",
        "#Abtastzeiten\n",
        "Ta = [1.0, 5.0, 10.0]\n",
        "\n",
        "#Simulationszeit\n",
        "Tsim=200\n",
        "\n",
        "tank = VierTank(st)\n",
        "tank_lin = tank.linearize(equis[0])\n",
        "\n",
        "if linear:\n",
        "    _tank = tank_lin\n",
        "else:\n",
        "    _tank = tank\n",
        "\n",
        "#Auswertungszeitpunkte\n",
        "t_eval=np.linspace(0,Tsim,500)\n",
        "\n",
        "_transition = transitions[1]\n",
        "_ya = y_equi[_transition[0]-1]\n",
        "_yb = y_equi[_transition[1]-1]\n",
        "\n",
        "for _Ta in Ta:\n",
        "    #Anfangszustand\n",
        "    if linear:\n",
        "        _x0 = _trajectory.state(0)\n",
        "    else:\n",
        "        _x0 = equis[_transition[0]-1].x\n",
        "\n",
        "    #Trajekorie generieren\n",
        "    _trajectory=tank_lin.rest_to_rest_trajectory(_ya,_yb,_T,(2,2))\n",
        "\n",
        "    #Wrapper für Regler und System\n",
        "    _ctrl = lambda k_,x_:controller_closed_loop(k_ * _Ta, x_, K_pole_placement,_trajectory)\n",
        "    _rhs = lambda t, x, ctrl_:_tank.model(t, x, ctrl_)\n",
        "\n",
        "    #Zeitdiskrete Simulation\n",
        "    t_sim,x_sim,u_sim=simulate_discrete(_rhs, _x0, _ctrl, _Ta, Tsim)\n",
        "\n",
        "    #Ergebnisse Plotten\n",
        "    x_desired = _trajectory.state(t_sim)\n",
        "    u_desired = _trajectory.input(np.floor(t_sim/_Ta)*_Ta)\n",
        "\n",
        "\n",
        "    plot_results(t_sim,\n",
        "                 (x_desired,x_sim),\n",
        "                 (u_desired,u_sim))"
      ]
    },
    {
      "cell_type": "markdown",
      "metadata": {
        "id": "NEJjwGpz4sK2"
      },
      "source": [
        "## b) Ergänzen Sie hier kurz Ihre Gedanken zur Diskretisierung"
      ]
    },
    {
      "cell_type": "markdown",
      "metadata": {
        "id": "dYPy4ak84sK2"
      },
      "source": [
        "## c) Zeitdiskreter Steuerungsentwurf"
      ]
    },
    {
      "cell_type": "code",
      "execution_count": null,
      "metadata": {
        "scrolled": false,
        "id": "LspIxXtS4sK3"
      },
      "outputs": [],
      "source": [
        "linear=True\n",
        "\n",
        "Ta=[5.0,15.0]\n",
        "\n",
        "transition = transitions[1]\n",
        "ya = y_equi[_transition[0]-1]\n",
        "yb = y_equi[_transition[1]-1]\n",
        "\n",
        "#Übergangszeit\n",
        "T=50.0\n",
        "\n",
        "#Simulationszeit\n",
        "Tsim=200\n",
        "\n",
        "tank=VierTank(st)\n",
        "tank_lin = tank.linearize(equis[0])\n",
        "\n",
        "if linear:\n",
        "    _tank = tank_lin\n",
        "\n",
        "for _Ta in Ta:\n",
        "    #Schritte für Übergang\n",
        "    N=np.round(T/_Ta)\n",
        "\n",
        "    #diskretes Modell\n",
        "    tank_lin_discrete = tank_lin.discretize(_Ta)\n",
        "\n",
        "    #Berechne diskrete Solltrajektorien\n",
        "    trajectory_discrete = tank_lin_discrete.rest_to_rest_trajectory(ya, yb,N,[2,2])\n",
        "\n",
        "    _ctrl = lambda k,x:trajectory_discrete.input(k)\n",
        "\n",
        "    print(\"Anfangs und Endwerte flacher Ausgang:\")\n",
        "    print(trajectory_discrete.eta_a)\n",
        "    print(trajectory_discrete.eta_b)\n",
        "\n",
        "    #Wrapper für Modell\n",
        "    if linear:\n",
        "        _x0 = trajectory_discrete.state(0)\n",
        "    else:\n",
        "        _x0 = equis[_transition[0]-1].x\n",
        "\n",
        "    _rhs = lambda t,x,controller:_tank.model(t, x, _ctrl)\n",
        "\n",
        "    #Zeitdiskrete Simulation\n",
        "    t_sim,x_sim,u_sim=simulate_discrete(_rhs, _x0, _ctrl, _Ta, Tsim)\n",
        "\n",
        "    #Ergebnisse Plotten\n",
        "    x_desired=trajectory_discrete.state(np.floor(t_sim/_Ta))\n",
        "    u_desired=trajectory_discrete.input(np.floor(t_sim/_Ta))\n",
        "    y_desired=trajectory_discrete.output(np.floor(t_sim/_Ta))\n",
        "\n",
        "    plot_results(t_sim,\n",
        "                 (x_desired,x_sim),\n",
        "                 (u_desired,u_sim))\n",
        "    pp.show()"
      ]
    },
    {
      "cell_type": "markdown",
      "metadata": {
        "id": "zKb8uJvX4sK3"
      },
      "source": [
        "## d) Zeitdiskreter Reglerentwurf\n",
        "\n",
        "Ergänzen Sie hier Ihre Überlegungen zum zeitdiskreten Reglerentwurf."
      ]
    },
    {
      "cell_type": "code",
      "execution_count": null,
      "metadata": {
        "scrolled": false,
        "id": "54Rq09ng4sK3"
      },
      "outputs": [],
      "source": [
        "# Definition einer generischen diskreten Zustandsrückführung mit Führungsgrößenaufschaltung\n",
        "def control_discrete_closed_loop(k,x,Kd,trajectory):\n",
        "    kv=np.atleast_1d(k)\n",
        "    x_desired=trajectory.state(kv)\n",
        "    #Dimension testen, eventuell auf Matrixform bringen\n",
        "    if np.isscalar(k):\n",
        "        x_=np.array(x).reshape(4,1)\n",
        "    else:\n",
        "        x_=x\n",
        "    x_tilde=x_-x_desired\n",
        "    u_desired=trajectory.input(kv)\n",
        "    u=u_desired-Kd@x_tilde\n",
        "    if np.isscalar(k):\n",
        "        u=u[:,0]\n",
        "    return u"
      ]
    },
    {
      "cell_type": "code",
      "execution_count": null,
      "metadata": {
        "scrolled": true,
        "id": "rhdg5aWW4sK3"
      },
      "outputs": [],
      "source": [
        "#Simulation mit linarem oder nichtlinearem System?\n",
        "linear = False\n",
        "\n",
        "#LQR oder Eigenwertvorgabe?\n",
        "lqr = False\n",
        "\n",
        "#zu untersuchende Abtastzeiten\n",
        "Ta=[5.0,10.0]\n",
        "\n",
        "tank=VierTank(st)\n",
        "tank_lin = tank.linearize(equis[0])\n",
        "\n",
        "if linear:\n",
        "    _tank = tank_lin\n",
        "else:\n",
        "    _tank = tank\n",
        "\n",
        "\n",
        "transition = transitions[1]\n",
        "ya = y_equi[_transition[0]-1]\n",
        "yb = y_equi[_transition[1]-1]\n",
        "\n",
        "#Übergangszeit\n",
        "T=50.0\n",
        "\n",
        "#Simulationszeit\n",
        "Tsim=2*T\n",
        "\n",
        "for _Ta in Ta:\n",
        "    #Schritte für Übergang\n",
        "    N=np.round(T/_Ta)\n",
        "\n",
        "    #diskretes Modell\n",
        "    tank_lin_discrete = tank_lin.discretize(_Ta)\n",
        "\n",
        "    ######-------!!!!!!Aufgabe!!!!!!-------------########\n",
        "    #Bitte vervollständigen / anpassen\n",
        "    if lqr: # LQR-  Entwurf\n",
        "        _Kd = tank_lin_discrete.lqr(Q,R)\n",
        "\n",
        "    else: # Eikgenwertvorgabe\n",
        "        _Kd = np.zeros((2,4))\n",
        "    ######-------!!!!!!Aufgabe Ende!!!!!!-------########\n",
        "\n",
        "\n",
        "    #Berechne diskrete Solltrajektorien\n",
        "    trajectory_discrete = tank_lin_discrete.rest_to_rest_trajectory(ya,yb,N,[2,2])\n",
        "\n",
        "    _ctrl = lambda k,x:control_discrete_closed_loop(k,x,_Kd,trajectory_discrete)\n",
        "\n",
        "    print(\"Anfangs und Endwerte flacher Ausgang:\")\n",
        "    print(trajectory_discrete.eta_a)\n",
        "    print(trajectory_discrete.eta_b)\n",
        "\n",
        "    #Wrapper für Modell\n",
        "    if linear:\n",
        "        x0=trajectory_discrete.state(0)\n",
        "    else:\n",
        "        x0 = equis[_transition[0]-1].x\n",
        "    _rhs = lambda t,x,controller : _tank.model(t,x,controller)\n",
        "\n",
        "\n",
        "    #zeitdiskrete Simulation\n",
        "    t_sim, x_sim, u_sim = simulate_discrete(_rhs,x0,_ctrl,_Ta,Tsim)\n",
        "\n",
        "    #Ergebnisse Plotten\n",
        "    x_desired=trajectory_discrete.state(np.floor(t_sim/_Ta))\n",
        "    u_desired=trajectory_discrete.input(np.floor(t_sim/_Ta))\n",
        "\n",
        "    plot_results(t_sim,\n",
        "                 (x_desired,x_sim),\n",
        "                 (u_desired,u_sim))"
      ]
    },
    {
      "cell_type": "code",
      "execution_count": null,
      "metadata": {
        "scrolled": false,
        "id": "9ord1oyJ4sK3"
      },
      "outputs": [],
      "source": [
        "tank.generate_model_test_data(\"testdata.pckl\",200);\n"
      ]
    },
    {
      "cell_type": "code",
      "execution_count": null,
      "metadata": {
        "id": "Vs6MZgY34sK3"
      },
      "outputs": [],
      "source": []
    }
  ],
  "metadata": {
    "kernelspec": {
      "display_name": "base",
      "language": "python",
      "name": "python3"
    },
    "language_info": {
      "codemirror_mode": {
        "name": "ipython",
        "version": 3
      },
      "file_extension": ".py",
      "mimetype": "text/x-python",
      "name": "python",
      "nbconvert_exporter": "python",
      "pygments_lexer": "ipython3",
      "version": "3.8.5"
    },
    "toc": {
      "base_numbering": 1,
      "nav_menu": {},
      "number_sections": true,
      "sideBar": true,
      "skip_h1_title": true,
      "title_cell": "Table of Contents",
      "title_sidebar": "Contents",
      "toc_cell": false,
      "toc_position": {},
      "toc_section_display": true,
      "toc_window_display": false
    },
    "varInspector": {
      "cols": {
        "lenName": 16,
        "lenType": 16,
        "lenVar": 40
      },
      "kernels_config": {
        "python": {
          "delete_cmd_postfix": "",
          "delete_cmd_prefix": "del ",
          "library": "var_list.py",
          "varRefreshCmd": "print(var_dic_list())"
        },
        "r": {
          "delete_cmd_postfix": ") ",
          "delete_cmd_prefix": "rm(",
          "library": "var_list.r",
          "varRefreshCmd": "cat(var_dic_list()) "
        }
      },
      "types_to_exclude": [
        "module",
        "function",
        "builtin_function_or_method",
        "instance",
        "_Feature"
      ],
      "window_display": false
    },
    "colab": {
      "provenance": []
    }
  },
  "nbformat": 4,
  "nbformat_minor": 0
}